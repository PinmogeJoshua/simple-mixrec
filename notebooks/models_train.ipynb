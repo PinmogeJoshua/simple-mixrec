{
 "cells": [
  {
   "cell_type": "markdown",
   "metadata": {},
   "source": [
    "# 1 特征工程优化"
   ]
  },
  {
   "cell_type": "code",
   "execution_count": 1,
   "metadata": {},
   "outputs": [
    {
     "name": "stdout",
     "output_type": "stream",
     "text": [
      "使用原始预处理数据中的特征...\n",
      "原始特征数量: 20\n"
     ]
    }
   ],
   "source": [
    "import pandas as pd\n",
    "import numpy as np\n",
    "from sklearn.preprocessing import StandardScaler, OneHotEncoder, RobustScaler, PowerTransformer\n",
    "from sklearn.compose import ColumnTransformer\n",
    "from sklearn.pipeline import Pipeline\n",
    "from sklearn.decomposition import PCA\n",
    "from sklearn.feature_selection import SelectKBest, f_regression, mutual_info_regression, RFECV\n",
    "from scipy import stats\n",
    "\n",
    "# 加载已预处理的数据\n",
    "df = pd.read_csv('../datasets/walmart_preprocessed.csv')\n",
    "print(\"使用原始预处理数据中的特征...\")\n",
    "print(f\"原始特征数量: {df.shape[1]}\")"
   ]
  },
  {
   "cell_type": "code",
   "execution_count": 2,
   "metadata": {},
   "outputs": [],
   "source": [
    "# 1. 基于EDA添加更有针对性的交互特征\n",
    "# 只保留经验证有价值的交互特征\n",
    "df['Age_City'] = df['Age'].astype(str) + \"_\" + df['City_Category']\n",
    "df['Gender_Marital'] = df['Gender'] + \"_\" + df['Marital_Status'].astype(str)\n",
    "\n",
    "# 2. 改进的RFM分析\n",
    "# R(Recency)：停留年限的对数转换，更好地处理长尾分布\n",
    "df['Recency_Score'] = 5 - df['Stay_Years'] \n",
    "df['Recency_Log'] = np.log1p(df['Recency_Score'])\n",
    "\n",
    "# F(Frequency)：购买频次的分段和对数转换\n",
    "df['Frequency_Score'] = pd.qcut(df['Purchase_Count'], 5, labels=[1, 2, 3, 4, 5])\n",
    "df['Frequency_Log'] = np.log1p(df['Purchase_Count'])\n",
    "\n",
    "# M(Monetary)：使用分位数而不是等距分箱，更好地处理异常值\n",
    "df['Monetary_Score'] = pd.qcut(df['Total_User_Purchase'], 5, labels=[1, 2, 3, 4, 5])\n",
    "df['Monetary_Log'] = np.log1p(df['Total_User_Purchase'])\n",
    "\n",
    "# RFM分数 - 使用数值特征而非字符串连接，方便模型处理\n",
    "df['RFM_Total'] = df['Recency_Score'].astype(int) + df['Frequency_Score'].astype(int) + df['Monetary_Score'].astype(int)\n",
    "\n",
    "# 3. 处理偏态分布特征\n",
    "# 对高度偏斜的数值特征应用对数转换\n",
    "skewed_features = ['Product_Purchase_Var', 'Avg_Transaction_Value', 'Total_User_Purchase']\n",
    "for col in skewed_features:\n",
    "    if col in df.columns:\n",
    "        df[f'{col}_log'] = np.log1p(df[col])\n",
    "\n",
    "# 4. 更有针对性的特征组合\n",
    "# 产品类别和用户消费水平的交互\n",
    "user_spending_level = pd.qcut(df['Total_User_Purchase'], 3, labels=['低', '中', '高']).astype(str)  # 转换为字符串类型\n",
    "df['Product_Spending'] = df['Product_Category'].astype(str) + \"_\" + user_spending_level\n",
    "\n",
    "# 5. 特征分箱 - 将连续特征转换为分类特征\n",
    "df['Occupation_Bin'] = pd.cut(df['Occupation'], bins=5, labels=['Very Low', 'Low', 'Medium', 'High', 'Very High'])\n",
    "\n",
    "# 6. 比率特征 - 捕捉相对关系\n",
    "df['Purchase_Frequency_Ratio'] = df['Purchase_Count'] / (df['Stay_Years'] + 1)  # 避免除以0\n",
    "\n",
    "# 7. 使用更高级的多项式特征 - 仅选择关键变量\n",
    "df['Purchase_Count_Sq'] = df['Purchase_Count'] ** 2\n",
    "df['Stay_Years_Sq'] = df['Stay_Years'] ** 2\n",
    "\n",
    "# 8. 目标编码 - 替换原始分类特征，使用交叉验证方式避免泄露\n",
    "from sklearn.model_selection import KFold\n",
    "\n",
    "# 为目标编码创建交叉验证折叠\n",
    "kf = KFold(n_splits=5, shuffle=True, random_state=42)\n",
    "for cat in ['City_Category', 'Age']:\n",
    "    # 创建新的编码列\n",
    "    df[f'{cat}_target_mean'] = np.nan\n",
    "    df[f'{cat}_target_var'] = np.nan\n",
    "    \n",
    "    # 对每个折叠进行编码\n",
    "    for train_idx, test_idx in kf.split(df):\n",
    "        # 使用训练集计算编码\n",
    "        train_means = df.iloc[train_idx].groupby(cat)['Purchase'].mean()\n",
    "        train_vars = df.iloc[train_idx].groupby(cat)['Purchase'].var().fillna(0)\n",
    "        \n",
    "        # 应用到测试集\n",
    "        for cat_value, mean_val in train_means.items():\n",
    "            mask = (df.iloc[test_idx][cat] == cat_value)\n",
    "            df.loc[df.index[test_idx][mask], f'{cat}_target_mean'] = mean_val\n",
    "            \n",
    "        for cat_value, var_val in train_vars.items():\n",
    "            mask = (df.iloc[test_idx][cat] == cat_value)\n",
    "            df.loc[df.index[test_idx][mask], f'{cat}_target_var'] = var_val"
   ]
  },
  {
   "cell_type": "code",
   "execution_count": 3,
   "metadata": {},
   "outputs": [],
   "source": [
    "# 准备最终特征集\n",
    "categorical_features = [\n",
    "    'Gender', 'Age', 'City_Category', 'Marital_Status', \n",
    "    'Gender_Marital', 'Age_City', 'Product_Spending', 'Occupation_Bin'\n",
    "]\n",
    "\n",
    "numerical_features = [\n",
    "    'Occupation', 'Stay_Years', 'Product_Category', 'City_Code', \n",
    "    'Gender_Code', 'Total_User_Purchase', 'Purchase_Count',\n",
    "    'Avg_User_Purchase', 'Avg_Category_Purchase', \n",
    "    'Monetary_Log', 'Frequency_Log', 'Recency_Log',\n",
    "    'RFM_Total', 'Purchase_Frequency_Ratio', 'Avg_Purchase_Ratio',\n",
    "    'City_Category_target_mean', 'Age_target_mean'\n",
    "]"
   ]
  },
  {
   "cell_type": "markdown",
   "metadata": {},
   "source": [
    "# 2 特征选择"
   ]
  },
  {
   "cell_type": "code",
   "execution_count": 4,
   "metadata": {},
   "outputs": [
    {
     "name": "stdout",
     "output_type": "stream",
     "text": [
      "特征准备完成，保留了32个特征\n"
     ]
    }
   ],
   "source": [
    "from sklearn.model_selection import train_test_split, cross_val_score\n",
    "from sklearn.ensemble import RandomForestRegressor\n",
    "from sklearn.feature_selection import SelectFromModel, RFE, RFECV\n",
    "from sklearn.linear_model import Lasso\n",
    "import matplotlib.pyplot as plt\n",
    "\n",
    "# 准备X和y，确保不包含特征泄露\n",
    "target = 'Purchase'\n",
    "columns_to_drop = ['Purchase']\n",
    "if 'Purchase_Log' in df.columns:\n",
    "    columns_to_drop.append('Purchase_Log')\n",
    "    \n",
    "# 移除任何可能包含目标变量的特征\n",
    "if 'Avg_Purchase_Ratio' in df.columns:\n",
    "    columns_to_drop.append('Avg_Purchase_Ratio')\n",
    "if 'Avg_Purchase_Ratio_Squared' in df.columns:\n",
    "    columns_to_drop.append('Avg_Purchase_Ratio_Squared')\n",
    "if 'Avg_Purchase_Ratio_Log' in df.columns:\n",
    "    columns_to_drop.append('Avg_Purchase_Ratio_Log')\n",
    "if 'Avg_User_Purchase_X_Ratio' in df.columns:\n",
    "    columns_to_drop.append('Avg_User_Purchase_X_Ratio')\n",
    "\n",
    "X = df.drop(columns_to_drop, axis=1)\n",
    "y = df[target]\n",
    "\n",
    "# 去除不需要的列 - 使用更安全的方式\n",
    "cols_to_drop = ['User_ID', 'Product_ID', 'Stay_In_Current_City_Years', \n",
    "               'Purchase_Normalized', 'Purchase_Standardized', 'Age_Category']\n",
    "\n",
    "# 只删除存在的列\n",
    "existing_cols_to_drop = [col for col in cols_to_drop if col in X.columns]\n",
    "X = X.drop(existing_cols_to_drop, axis=1)\n",
    "\n",
    "# 显示保留的特征数量\n",
    "print(f\"特征准备完成，保留了{X.shape[1]}个特征\")\n",
    "\n",
    "# 分割数据 - 使用分层抽样保持分布\n",
    "X_train, X_test, y_train, y_test = train_test_split(X, y, test_size=0.2, random_state=42)"
   ]
  },
  {
   "cell_type": "code",
   "execution_count": 5,
   "metadata": {},
   "outputs": [],
   "source": [
    "# 预处理管道\n",
    "from sklearn.impute import SimpleImputer\n",
    "from sklearn.preprocessing import PowerTransformer\n",
    "\n",
    "numeric_transformer = Pipeline(steps=[\n",
    "    ('imputer', SimpleImputer(strategy='median')),\n",
    "    ('scaler', PowerTransformer(method='yeo-johnson'))  # 使用更适合处理偏态分布的转换器\n",
    "])\n",
    "\n",
    "categorical_transformer = Pipeline(steps=[\n",
    "    ('imputer', SimpleImputer(strategy='most_frequent')),\n",
    "    ('onehot', OneHotEncoder(handle_unknown='ignore'))\n",
    "])\n",
    "\n",
    "# 构建预处理器\n",
    "preprocessor = ColumnTransformer(\n",
    "    transformers=[\n",
    "        ('num', numeric_transformer, [col for col in numerical_features if col in X.columns]),\n",
    "        ('cat', categorical_transformer, [col for col in categorical_features if col in X.columns])\n",
    "    ])\n",
    "\n",
    "# 应用预处理\n",
    "preprocessed_X_train = preprocessor.fit_transform(X_train)\n",
    "preprocessed_X_test = preprocessor.transform(X_test)"
   ]
  },
  {
   "cell_type": "code",
   "execution_count": 9,
   "metadata": {},
   "outputs": [
    {
     "name": "stdout",
     "output_type": "stream",
     "text": [
      "特征数量: 120\n",
      "Top 20 特征:\n",
      "1. feature_8 (0.7656)\n",
      "2. feature_7 (0.0839)\n",
      "3. feature_13 (0.0180)\n",
      "4. feature_15 (0.0151)\n",
      "5. feature_2 (0.0119)\n",
      "6. feature_0 (0.0114)\n",
      "7. feature_5 (0.0083)\n",
      "8. feature_9 (0.0083)\n",
      "9. feature_10 (0.0076)\n",
      "10. feature_6 (0.0067)\n",
      "11. feature_12 (0.0053)\n",
      "12. feature_11 (0.0034)\n",
      "13. feature_1 (0.0031)\n",
      "14. feature_31 (0.0026)\n",
      "15. feature_35 (0.0025)\n",
      "16. feature_32 (0.0022)\n",
      "17. feature_44 (0.0020)\n",
      "18. feature_86 (0.0019)\n",
      "19. feature_116 (0.0019)\n",
      "20. feature_41 (0.0018)\n"
     ]
    }
   ],
   "source": [
    "# 采样数据以加速\n",
    "sample_size = min(5000, preprocessed_X_train.shape[0])\n",
    "indices = np.random.choice(preprocessed_X_train.shape[0], sample_size, replace=False)\n",
    "X_sample = preprocessed_X_train[indices]\n",
    "y_sample = y_train.iloc[indices]\n",
    "\n",
    "# 处理特征名称 - 检查是否为稀疏矩阵\n",
    "import scipy.sparse as sp\n",
    "if sp.issparse(preprocessed_X_train):\n",
    "    # 如果是稀疏矩阵，创建数值索引作为特征名称\n",
    "    n_features = preprocessed_X_train.shape[1]\n",
    "    feature_names = [f\"feature_{i}\" for i in range(n_features)]\n",
    "else:\n",
    "    # 如果是DataFrame，获取列名\n",
    "    feature_names = preprocessed_X_train.columns.tolist()\n",
    "\n",
    "print(f\"特征数量: {len(feature_names)}\")\n",
    "\n",
    "# 使用轻量级随机森林\n",
    "from sklearn.ensemble import RandomForestRegressor\n",
    "rf = RandomForestRegressor(\n",
    "    n_estimators=20,  # 减少树的数量\n",
    "    max_depth=10,     # 限制树的深度\n",
    "    n_jobs=-1,        # 使用所有核心\n",
    "    random_state=42\n",
    ")\n",
    "rf.fit(X_sample, y_sample)\n",
    "\n",
    "# 获取特征重要性\n",
    "importances = rf.feature_importances_\n",
    "indices_sorted = np.argsort(importances)[::-1]\n",
    "\n",
    "# 选择前N个特征\n",
    "N = min(20, len(feature_names))\n",
    "top_features = [feature_names[i] for i in indices_sorted[:N]]\n",
    "\n",
    "# 打印顶部特征\n",
    "print(\"Top 20 特征:\")\n",
    "for i, feature in enumerate(top_features):\n",
    "    print(f\"{i+1}. {feature} ({importances[indices_sorted[i]]:.4f})\")"
   ]
  },
  {
   "cell_type": "code",
   "execution_count": 10,
   "metadata": {},
   "outputs": [
    {
     "name": "stdout",
     "output_type": "stream",
     "text": [
      "\n",
      "\n",
      "使用互信息法评估特征...\n",
      "\n",
      "互信息选择的前20个特征:\n",
      "1. feature_2 (MI分数: 1.6217)\n",
      "2. feature_8 (MI分数: 1.6217)\n",
      "3. feature_102 (MI分数: 0.1313)\n",
      "4. feature_85 (MI分数: 0.1308)\n",
      "5. feature_100 (MI分数: 0.1259)\n",
      "6. feature_101 (MI分数: 0.1137)\n",
      "7. feature_86 (MI分数: 0.1107)\n",
      "8. feature_110 (MI分数: 0.1034)\n",
      "9. feature_109 (MI分数: 0.0985)\n",
      "10. feature_111 (MI分数: 0.0932)\n",
      "11. feature_87 (MI分数: 0.0919)\n",
      "12. feature_7 (MI分数: 0.0736)\n",
      "13. feature_9 (MI分数: 0.0729)\n",
      "14. feature_5 (MI分数: 0.0729)\n",
      "15. feature_60 (MI分数: 0.0482)\n",
      "16. feature_93 (MI分数: 0.0363)\n",
      "17. feature_59 (MI分数: 0.0346)\n",
      "18. feature_95 (MI分数: 0.0332)\n",
      "19. feature_94 (MI分数: 0.0330)\n",
      "20. feature_6 (MI分数: 0.0323)\n"
     ]
    }
   ],
   "source": [
    "# 方法2：使用统计方法 - 互信息（非常快速）\n",
    "print(\"\\n\\n使用互信息法评估特征...\")\n",
    "from sklearn.feature_selection import mutual_info_regression\n",
    "\n",
    "# 计算互信息\n",
    "mi_scores = mutual_info_regression(X_sample, y_sample, random_state=42)\n",
    "mi_indices = np.argsort(mi_scores)[::-1]\n",
    "\n",
    "# 选择前N个特征\n",
    "mi_top_features = [feature_names[i] for i in mi_indices[:N]]\n",
    "print(f\"\\n互信息选择的前{N}个特征:\")\n",
    "for i, feature in enumerate(mi_top_features):\n",
    "    print(f\"{i+1}. {feature} (MI分数: {mi_scores[mi_indices[i]]:.4f})\")"
   ]
  },
  {
   "cell_type": "code",
   "execution_count": 11,
   "metadata": {},
   "outputs": [
    {
     "name": "stdout",
     "output_type": "stream",
     "text": [
      "\n",
      "两种方法结合后的特征集 (33个特征):\n",
      "['feature_15', 'feature_100', 'feature_59', 'feature_11', 'feature_35', 'feature_2', 'feature_41', 'feature_8', 'feature_110', 'feature_32', 'feature_85', 'feature_102', 'feature_9', 'feature_116', 'feature_101', 'feature_31', 'feature_0', 'feature_44', 'feature_12', 'feature_87', 'feature_86', 'feature_10', 'feature_95', 'feature_94', 'feature_111', 'feature_60', 'feature_5', 'feature_93', 'feature_109', 'feature_1', 'feature_13', 'feature_7', 'feature_6']\n"
     ]
    }
   ],
   "source": [
    "# 方法3：结合两种方法的结果\n",
    "combined_features = list(set(top_features) | set(mi_top_features))\n",
    "print(f\"\\n两种方法结合后的特征集 ({len(combined_features)}个特征):\")\n",
    "print(combined_features)"
   ]
  },
  {
   "cell_type": "code",
   "execution_count": 12,
   "metadata": {},
   "outputs": [],
   "source": [
    "import matplotlib as mpl\n",
    "mpl.rcParams['font.family'] = 'SimHei'  # 或其他支持中文的字体\n",
    "mpl.rcParams['axes.unicode_minus'] = False  # 解决负号'-'显示为方块的问题"
   ]
  },
  {
   "cell_type": "code",
   "execution_count": 13,
   "metadata": {},
   "outputs": [
    {
     "name": "stdout",
     "output_type": "stream",
     "text": [
      "\n",
      "重要性大于0.001的特征数量: 30\n"
     ]
    },
    {
     "data": {
      "image/png": "[encoded data removed]",
      "text/plain": [
       "<Figure size 1400x1000 with 1 Axes>"
      ]
     },
     "metadata": {},
     "output_type": "display_data"
    }
   ],
   "source": [
    "threshold = 0.001  # 设置一个合理的阈值\n",
    "significant_indices = [i for i in indices_sorted if importances[i] > threshold]\n",
    "significant_features = [feature_names[i] for i in significant_indices]\n",
    "significant_importances = [importances[i] for i in significant_indices]\n",
    "\n",
    "print(f\"\\n重要性大于{threshold}的特征数量: {len(significant_features)}\")\n",
    "\n",
    "if len(significant_features) > 0:\n",
    "    plt.figure(figsize=(14, min(10, len(significant_features)*0.4)))\n",
    "    plt.barh(range(len(significant_features)), significant_importances, align='center')\n",
    "    plt.yticks(range(len(significant_features)), significant_features)\n",
    "    plt.xlabel('特征重要性')\n",
    "    plt.title(f'重要性大于{threshold}的特征')\n",
    "    \n",
    "    # 添加数值标签\n",
    "    for i, v in enumerate(significant_importances):\n",
    "        plt.text(v + 0.001, i, f'{v:.4f}', va='center')\n",
    "        \n",
    "    plt.tight_layout()\n",
    "    plt.savefig('../outputs/visualization/significant_features.png', dpi=300)\n",
    "    plt.show()"
   ]
  },
  {
   "cell_type": "markdown",
   "metadata": {},
   "source": [
    "# 3 基础模型构建与训练"
   ]
  },
  {
   "cell_type": "code",
   "execution_count": 14,
   "metadata": {},
   "outputs": [],
   "source": [
    "# 导入sklearn相关\n",
    "from sklearn.ensemble import RandomForestRegressor, GradientBoostingRegressor\n",
    "from sklearn.metrics import mean_squared_error, r2_score, mean_absolute_error\n",
    "from sklearn.model_selection import train_test_split, cross_val_score\n",
    "from sklearn.preprocessing import StandardScaler, OneHotEncoder\n",
    "from sklearn.pipeline import Pipeline\n",
    "\n",
    "# 导入XGBoost\n",
    "import xgboost as xgb\n",
    "\n",
    "# 导入LightGBM\n",
    "import lightgbm as lgb"
   ]
  },
  {
   "cell_type": "markdown",
   "metadata": {},
   "source": [
    "## 3.1 构建"
   ]
  },
  {
   "cell_type": "code",
   "execution_count": 15,
   "metadata": {},
   "outputs": [],
   "source": [
    "# 构建基础模型\n",
    "base_models = [\n",
    "    ('rf', RandomForestRegressor(n_estimators=50, n_jobs=-1, random_state=42)),\n",
    "    ('gbm', GradientBoostingRegressor(n_estimators=50, random_state=42)),\n",
    "    ('xgb', xgb.XGBRegressor(n_estimators=50, n_jobs=-1, random_state=42)),\n",
    "    ('lgbm', lgb.LGBMRegressor(n_estimators=50, n_jobs=-1, random_state=42))\n",
    "]\n",
    "\n",
    "# 获取特征名称，用于后续特征重要性分析\n",
    "feature_names = X_train.columns.tolist()"
   ]
  },
  {
   "cell_type": "code",
   "execution_count": 16,
   "metadata": {},
   "outputs": [
    {
     "name": "stdout",
     "output_type": "stream",
     "text": [
      "训练集总大小: 440054行\n",
      "数据集较大，使用44005个样本(约10.0%的数据)\n"
     ]
    }
   ],
   "source": [
    "import time\n",
    "# 动态确定样本大小\n",
    "total_size = len(X_train)\n",
    "print(f\"训练集总大小: {total_size}行\")\n",
    "\n",
    "# 根据数据集大小自动确定样本大小\n",
    "if total_size < 5000:\n",
    "    # 如果数据集很小，使用全部数据\n",
    "    sample_size = total_size\n",
    "    print(f\"数据集较小，使用全部{sample_size}个样本\")\n",
    "elif total_size < 50000:\n",
    "    # 中等大小数据集，使用20%或5000个样本(取较大值)\n",
    "    sample_size = max(int(total_size * 0.2), 5000)\n",
    "    print(f\"数据集中等大小，使用{sample_size}个样本(约{sample_size/total_size*100:.1f}%的数据)\")\n",
    "else:\n",
    "    # 大型数据集，使用10%或10000个样本(取较大值)\n",
    "    sample_size = max(int(total_size * 0.1), 10000)\n",
    "    print(f\"数据集较大，使用{sample_size}个样本(约{sample_size/total_size*100:.1f}%的数据)\")"
   ]
  },
  {
   "cell_type": "markdown",
   "metadata": {},
   "source": [
    "## 3.2 训练"
   ]
  },
  {
   "cell_type": "code",
   "execution_count": 17,
   "metadata": {},
   "outputs": [
    {
     "name": "stdout",
     "output_type": "stream",
     "text": [
      "从440054行数据中抽取44005行用于快速模型评估\n",
      "rf (样本训练) - R²: 0.5996, RMSE: 3171.64, 训练时间: 19.37秒\n",
      "gbm (样本训练) - R²: 0.6669, RMSE: 2892.82, 训练时间: 5.84秒\n",
      "xgb (样本训练) - R²: 0.6653, RMSE: 2900.06, 训练时间: 0.21秒\n",
      "[LightGBM] [Info] Auto-choosing col-wise multi-threading, the overhead of testing was 0.002034 seconds.\n",
      "You can set `force_col_wise=true` to remove the overhead.\n",
      "[LightGBM] [Info] Total Bins 1858\n",
      "[LightGBM] [Info] Number of data points in the train set: 44005, number of used features: 114\n",
      "[LightGBM] [Info] Start training from score 9273.860720\n",
      "lgbm (样本训练) - R²: 0.6693, RMSE: 2882.77, 训练时间: 0.18秒\n"
     ]
    }
   ],
   "source": [
    "# 如果有足够的样本，则取样本进行训练\n",
    "if sample_size < total_size:\n",
    "    sample_indices = np.random.choice(total_size, sample_size, replace=False)\n",
    "    sample_X_train = preprocessed_X_train[sample_indices]\n",
    "    sample_y_train = y_train.iloc[sample_indices]\n",
    "    \n",
    "    print(f\"从{total_size}行数据中抽取{sample_size}行用于快速模型评估\")\n",
    "    \n",
    "    # 使用样本数据训练模型\n",
    "    for name, model in base_models:\n",
    "        start_time = time.time()\n",
    "        model.fit(sample_X_train, sample_y_train)\n",
    "        train_time = time.time() - start_time\n",
    "        \n",
    "        y_pred = model.predict(preprocessed_X_test)\n",
    "        r2 = r2_score(y_test, y_pred)\n",
    "        rmse = np.sqrt(mean_squared_error(y_test, y_pred))\n",
    "        \n",
    "        print(f\"{name} (样本训练) - R²: {r2:.4f}, RMSE: {rmse:.2f}, 训练时间: {train_time:.2f}秒\")\n",
    "else:\n",
    "    # 数据集很小，使用全部数据\n",
    "    print(\"数据集较小，使用全部数据进行训练\")\n",
    "    \n",
    "    for name, model in base_models:\n",
    "        start_time = time.time()\n",
    "        model.fit(preprocessed_X_train, y_train)\n",
    "        train_time = time.time() - start_time\n",
    "        \n",
    "        y_pred = model.predict(preprocessed_X_test)\n",
    "        r2 = r2_score(y_test, y_pred)\n",
    "        rmse = np.sqrt(mean_squared_error(y_test, y_pred))\n",
    "        \n",
    "        print(f\"{name} - R²: {r2:.4f}, RMSE: {rmse:.2f}, 训练时间: {train_time:.2f}秒\")"
   ]
  },
  {
   "cell_type": "code",
   "execution_count": 19,
   "metadata": {},
   "outputs": [
    {
     "name": "stdout",
     "output_type": "stream",
     "text": [
      "将分类特征转换为数值: Gender\n",
      "将分类特征转换为数值: Age\n",
      "将分类特征转换为数值: City_Category\n",
      "将分类特征转换为数值: Age_City\n",
      "将分类特征转换为数值: Gender_Marital\n",
      "将分类特征转换为数值: Frequency_Score\n",
      "将分类特征转换为数值: Monetary_Score\n",
      "将分类特征转换为数值: Product_Spending\n",
      "将分类特征转换为数值: Occupation_Bin\n",
      "Top 10 特征:\n",
      "                     feature  importance\n",
      "12     Avg_Category_Purchase    0.915380\n",
      "11         Avg_User_Purchase    0.052573\n",
      "23          Product_Spending    0.012177\n",
      "5           Product_Category    0.006007\n",
      "25  Purchase_Frequency_Ratio    0.002051\n",
      "13                  Age_City    0.001323\n",
      "31            Age_target_var    0.000877\n",
      "26         Purchase_Count_Sq    0.000805\n",
      "2                 Occupation    0.000798\n",
      "30           Age_target_mean    0.000787\n",
      "\n",
      "使用前10个重要特征训练轻量级模型...\n",
      "[LightGBM] [Info] Auto-choosing row-wise multi-threading, the overhead of testing was 0.001877 seconds.\n",
      "You can set `force_row_wise=true` to remove the overhead.\n",
      "And if memory is not enough, you can set `force_col_wise=true`.\n",
      "[LightGBM] [Info] Total Bins 963\n",
      "[LightGBM] [Info] Number of data points in the train set: 440054, number of used features: 10\n",
      "[LightGBM] [Info] Start training from score 9266.733955\n",
      "[LightGBM] [Warning] No further splits with positive gain, best gain: -inf\n",
      "[LightGBM] [Warning] No further splits with positive gain, best gain: -inf\n",
      "[LightGBM] [Warning] No further splits with positive gain, best gain: -inf\n",
      "[LightGBM] [Warning] No further splits with positive gain, best gain: -inf\n",
      "[LightGBM] [Warning] No further splits with positive gain, best gain: -inf\n",
      "[LightGBM] [Warning] No further splits with positive gain, best gain: -inf\n",
      "[LightGBM] [Warning] No further splits with positive gain, best gain: -inf\n",
      "[LightGBM] [Warning] No further splits with positive gain, best gain: -inf\n",
      "[LightGBM] [Warning] No further splits with positive gain, best gain: -inf\n",
      "[LightGBM] [Warning] No further splits with positive gain, best gain: -inf\n",
      "[LightGBM] [Warning] No further splits with positive gain, best gain: -inf\n",
      "[LightGBM] [Warning] No further splits with positive gain, best gain: -inf\n",
      "[LightGBM] [Warning] No further splits with positive gain, best gain: -inf\n",
      "[LightGBM] [Warning] No further splits with positive gain, best gain: -inf\n",
      "[LightGBM] [Warning] No further splits with positive gain, best gain: -inf\n",
      "[LightGBM] [Warning] No further splits with positive gain, best gain: -inf\n",
      "轻量级模型 (前10特征) 性能:\n",
      "R² = 0.6721, RMSE = 2870.52, MAE = 2120.97\n",
      "训练时间: 0.36 秒\n"
     ]
    }
   ],
   "source": [
    "# 确保X_train是纯数值型DataFrame\n",
    "# 检查并转换分类变量\n",
    "for col in X_train.columns:\n",
    "    if X_train[col].dtype == 'object' or X_train[col].dtype.name == 'category':\n",
    "        print(f\"将分类特征转换为数值: {col}\")\n",
    "        # 使用标签编码将分类特征转换为数值\n",
    "        X_train[col] = X_train[col].astype('category').cat.codes\n",
    "        X_test[col] = X_test[col].astype('category').cat.codes\n",
    "\n",
    "# 现在X_train应该只包含数值型特征，可以训练随机森林\n",
    "rf_feature_selector = RandomForestRegressor(n_estimators=50, max_depth=10, random_state=42, n_jobs=-1)\n",
    "rf_feature_selector.fit(X_train, y_train)\n",
    "\n",
    "# 获取特征重要性\n",
    "feature_importances = pd.DataFrame({\n",
    "    'feature': X_train.columns,\n",
    "    'importance': rf_feature_selector.feature_importances_\n",
    "}).sort_values('importance', ascending=False)\n",
    "\n",
    "# 显示前10个特征\n",
    "print(\"Top 10 特征:\")\n",
    "print(feature_importances.head(10))\n",
    "\n",
    "# 选择前N个最重要的特征\n",
    "top_n = 10\n",
    "top_features = feature_importances['feature'].head(top_n).tolist()\n",
    "\n",
    "# 创建只包含最重要特征的数据集\n",
    "X_train_slim = X_train[top_features].copy()\n",
    "X_test_slim = X_test[top_features].copy()\n",
    "\n",
    "# 训练轻量级LightGBM模型\n",
    "slim_lgbm = lgb.LGBMRegressor(\n",
    "    n_estimators=100,\n",
    "    learning_rate=0.1,\n",
    "    max_depth=5,\n",
    "    random_state=42,\n",
    "    n_jobs=-1\n",
    ")\n",
    "\n",
    "print(\"\\n使用前10个重要特征训练轻量级模型...\")\n",
    "start_time = time.time()\n",
    "slim_lgbm.fit(X_train_slim, y_train)\n",
    "end_time = time.time()\n",
    "\n",
    "# 评估简化模型\n",
    "y_pred_slim = slim_lgbm.predict(X_test_slim)\n",
    "r2_slim = r2_score(y_test, y_pred_slim)\n",
    "rmse_slim = np.sqrt(mean_squared_error(y_test, y_pred_slim))\n",
    "mae_slim = mean_absolute_error(y_test, y_pred_slim)\n",
    "\n",
    "print(f\"轻量级模型 (前10特征) 性能:\")\n",
    "print(f\"R² = {r2_slim:.4f}, RMSE = {rmse_slim:.2f}, MAE = {mae_slim:.2f}\")\n",
    "print(f\"训练时间: {end_time - start_time:.2f} 秒\")"
   ]
  },
  {
   "cell_type": "markdown",
   "metadata": {},
   "source": [
    "# 4 LightGBM模型"
   ]
  },
  {
   "cell_type": "markdown",
   "metadata": {},
   "source": [
    "## 4.1 LightGBM模型初始化与训练"
   ]
  },
  {
   "cell_type": "code",
   "execution_count": 20,
   "metadata": {},
   "outputs": [
    {
     "name": "stdout",
     "output_type": "stream",
     "text": [
      "初始化优化版LightGBM模型...\n",
      "使用前10个重要特征训练优化版LightGBM模型\n"
     ]
    }
   ],
   "source": [
    "import lightgbm as lgb\n",
    "from sklearn.model_selection import RandomizedSearchCV\n",
    "from sklearn.metrics import r2_score, mean_squared_error\n",
    "import numpy as np\n",
    "import time\n",
    "\n",
    "print(\"初始化优化版LightGBM模型...\")\n",
    "\n",
    "# 基于前10个重要特征构建模型\n",
    "print(f\"使用前{top_n}个重要特征训练优化版LightGBM模型\")"
   ]
  },
  {
   "cell_type": "markdown",
   "metadata": {},
   "source": [
    "## 4.2 调参"
   ]
  },
  {
   "cell_type": "code",
   "execution_count": 21,
   "metadata": {},
   "outputs": [],
   "source": [
    "# LightGBM参数网格\n",
    "slim_param_grid = {\n",
    "    'n_estimators': [50, 100, 200, 400],\n",
    "    'learning_rate': [0.01, 0.05, 0.1, 0.2],\n",
    "    'max_depth': [3, 5, 7, 9],\n",
    "    'num_leaves': [15, 31, 63],\n",
    "    'subsample': [0.8, 0.9, 1.0],\n",
    "    'colsample_bytree': [0.8, 0.9, 1.0],\n",
    "    'min_child_samples': [5, 10, 20]\n",
    "}\n",
    "\n",
    "# 使用RandomizedSearchCV减少计算量\n",
    "random_search = RandomizedSearchCV(\n",
    "    lgb.LGBMRegressor(random_state=42, n_jobs=-1), \n",
    "    param_distributions=slim_param_grid, \n",
    "    n_iter=20,  # 随机尝试20种组合\n",
    "    cv=5,\n",
    "    scoring='r2',\n",
    "    verbose=1,\n",
    "    random_state=42,\n",
    "    n_jobs=-1\n",
    ")"
   ]
  },
  {
   "cell_type": "code",
   "execution_count": 22,
   "metadata": {},
   "outputs": [
    {
     "name": "stdout",
     "output_type": "stream",
     "text": [
      "在简化特征集上进行参数搜索...\n",
      "Fitting 5 folds for each of 20 candidates, totalling 100 fits\n",
      "[LightGBM] [Info] Auto-choosing row-wise multi-threading, the overhead of testing was 0.001862 seconds.\n",
      "You can set `force_row_wise=true` to remove the overhead.\n",
      "And if memory is not enough, you can set `force_col_wise=true`.\n",
      "[LightGBM] [Info] Total Bins 963\n",
      "[LightGBM] [Info] Number of data points in the train set: 440054, number of used features: 10\n",
      "[LightGBM] [Info] Start training from score 9266.733955\n",
      "参数搜索完成，耗时: 90.45秒\n",
      "最佳参数: {'subsample': 0.8, 'num_leaves': 63, 'n_estimators': 200, 'min_child_samples': 20, 'max_depth': 9, 'learning_rate': 0.2, 'colsample_bytree': 0.9}\n"
     ]
    }
   ],
   "source": [
    "print(f\"在简化特征集上进行参数搜索...\")\n",
    "start_time = time.time()\n",
    "random_search.fit(X_train_slim, y_train)\n",
    "search_time = time.time() - start_time\n",
    "\n",
    "print(f\"参数搜索完成，耗时: {search_time:.2f}秒\")\n",
    "print(\"最佳参数:\", random_search.best_params_)"
   ]
  },
  {
   "cell_type": "markdown",
   "metadata": {},
   "source": [
    "## 4.3 最终模型"
   ]
  },
  {
   "cell_type": "code",
   "execution_count": 23,
   "metadata": {},
   "outputs": [
    {
     "name": "stdout",
     "output_type": "stream",
     "text": [
      "最终使用的LightGBM参数:\n",
      "  subsample: 0.8\n",
      "  num_leaves: 63\n",
      "  n_estimators: 200\n",
      "  min_child_samples: 20\n",
      "  max_depth: 9\n",
      "  learning_rate: 0.2\n",
      "  colsample_bytree: 0.9\n"
     ]
    }
   ],
   "source": [
    "# 获取最佳LightGBM模型参数\n",
    "best_lgbm_params = random_search.best_params_\n",
    "print(\"最终使用的LightGBM参数:\")\n",
    "for param, value in best_lgbm_params.items():\n",
    "    print(f\"  {param}: {value}\")"
   ]
  },
  {
   "cell_type": "code",
   "execution_count": 24,
   "metadata": {},
   "outputs": [
    {
     "name": "stdout",
     "output_type": "stream",
     "text": [
      "[LightGBM] [Info] Auto-choosing row-wise multi-threading, the overhead of testing was 0.001692 seconds.\n",
      "You can set `force_row_wise=true` to remove the overhead.\n",
      "And if memory is not enough, you can set `force_col_wise=true`.\n",
      "[LightGBM] [Info] Total Bins 963\n",
      "[LightGBM] [Info] Number of data points in the train set: 440054, number of used features: 10\n",
      "[LightGBM] [Info] Start training from score 9266.733955\n",
      "最终模型训练完成，耗时: 0.89秒\n"
     ]
    }
   ],
   "source": [
    "# 创建最终LightGBM模型\n",
    "best_lgbm = lgb.LGBMRegressor(**best_lgbm_params, random_state=42, n_jobs=-1)\n",
    "\n",
    "# 训练最终模型并记录时间\n",
    "start_time = time.time()\n",
    "best_lgbm.fit(X_train_slim, y_train)\n",
    "train_time = time.time() - start_time\n",
    "\n",
    "print(f\"最终模型训练完成，耗时: {train_time:.2f}秒\")"
   ]
  },
  {
   "cell_type": "markdown",
   "metadata": {},
   "source": [
    "## 4.4 保存模型与参数字典"
   ]
  },
  {
   "cell_type": "code",
   "execution_count": 25,
   "metadata": {},
   "outputs": [],
   "source": [
    "import pickle\n",
    "import joblib\n",
    "import os\n",
    "import json\n",
    "import datetime\n",
    "\n",
    "# 创建保存模型的目录（如果不存在）\n",
    "os.makedirs('../models', exist_ok=True)\n",
    "os.makedirs('../models/lgbm', exist_ok=True)"
   ]
  },
  {
   "cell_type": "code",
   "execution_count": 26,
   "metadata": {},
   "outputs": [],
   "source": [
    "# 保存模型和特征列表\n",
    "joblib.dump(best_lgbm, '../models/lgbm/final_lgbm_slim.joblib')\n",
    "with open('../models/lgbm/top_features.pkl', 'wb') as f:\n",
    "    pickle.dump(top_features, f)\n",
    "\n",
    "# 保存参数字典\n",
    "with open('../models/lgbm/best_lgbm_params.pkl', 'wb') as f:\n",
    "    pickle.dump(best_lgbm_params, f)\n",
    "\n",
    "# 保存训练信息\n",
    "model_info = {\n",
    "    'features_used': top_features,\n",
    "    'feature_count': len(top_features),\n",
    "    'train_time': train_time,\n",
    "    'parameters': best_lgbm_params,\n",
    "    'training_date': datetime.datetime.now().strftime('%Y-%m-%d %H:%M:%S')\n",
    "}\n",
    "\n",
    "with open('../models/lgbm/lgbm_model_info.json', 'w') as f:\n",
    "    json.dump(model_info, f, indent=4)"
   ]
  },
  {
   "cell_type": "markdown",
   "metadata": {},
   "source": [
    "## 4.5 测试集训练"
   ]
  },
  {
   "cell_type": "code",
   "execution_count": 27,
   "metadata": {},
   "outputs": [
    {
     "name": "stdout",
     "output_type": "stream",
     "text": [
      "最终LightGBM模型评估结果:\n",
      "  R²: 0.6813\n",
      "  RMSE: 2829.79\n",
      "  MAE: 2084.24\n"
     ]
    }
   ],
   "source": [
    "# 在测试集上评估模型\n",
    "y_pred_lgbm = best_lgbm.predict(X_test_slim)\n",
    "r2_lgbm = r2_score(y_test, y_pred_lgbm)\n",
    "rmse_lgbm = np.sqrt(mean_squared_error(y_test, y_pred_lgbm))\n",
    "mae_lgbm = mean_absolute_error(y_test, y_pred_lgbm)\n",
    "\n",
    "print(f\"最终LightGBM模型评估结果:\")\n",
    "print(f\"  R²: {r2_lgbm:.4f}\")\n",
    "print(f\"  RMSE: {rmse_lgbm:.2f}\")\n",
    "print(f\"  MAE: {mae_lgbm:.2f}\")"
   ]
  },
  {
   "cell_type": "code",
   "execution_count": 28,
   "metadata": {},
   "outputs": [
    {
     "data": {
      "image/png": "[encoded data removed]",
      "text/plain": [
       "<Figure size 1000x600 with 1 Axes>"
      ]
     },
     "metadata": {},
     "output_type": "display_data"
    }
   ],
   "source": [
    "import matplotlib.pyplot as plt\n",
    "import matplotlib as mpl\n",
    "import seaborn as sns\n",
    "\n",
    "mpl.rcParams['font.family'] = 'SimHei'  # 或其他支持中文的字体\n",
    "mpl.rcParams['axes.unicode_minus'] = False  # 解决负号'-'显示为方块的问题\n",
    "\n",
    "# 获取特征重要性\n",
    "feature_importance = pd.DataFrame({\n",
    "    'Feature': top_features,\n",
    "    'Importance': best_lgbm.feature_importances_\n",
    "}).sort_values('Importance', ascending=False)\n",
    "\n",
    "# 创建输出目录\n",
    "os.makedirs('../outputs/visualization/lgbm', exist_ok=True)\n",
    "\n",
    "# 可视化特征重要性\n",
    "plt.figure(figsize=(10, 6))\n",
    "sns.barplot(x='Importance', y='Feature', data=feature_importance)\n",
    "plt.title('LightGBM - 特征重要性')\n",
    "plt.tight_layout()\n",
    "plt.savefig('../outputs/visualization/lgbm/feature_importance_lgbm.png')\n",
    "plt.show()"
   ]
  },
  {
   "cell_type": "markdown",
   "metadata": {},
   "source": [
    "# 4--番外 Ridge模型简化"
   ]
  },
  {
   "cell_type": "code",
   "execution_count": 29,
   "metadata": {},
   "outputs": [
    {
     "name": "stdout",
     "output_type": "stream",
     "text": [
      "训练简化版Ridge模型(基于前10大特征)...\n",
      "简化Ridge模型评估结果:\n",
      "  R²: 0.6585\n",
      "  RMSE: 2929.05\n",
      "  MAE: 2194.64\n",
      "  训练时间: 0.09秒\n"
     ]
    }
   ],
   "source": [
    "from sklearn.linear_model import Ridge\n",
    "\n",
    "print(\"训练简化版Ridge模型(基于前10大特征)...\")\n",
    "\n",
    "ridge_model = Ridge(alpha=1.0, random_state=42)\n",
    "start_time = time.time()\n",
    "ridge_model.fit(X_train_slim, y_train)\n",
    "ridge_train_time = time.time() - start_time\n",
    "\n",
    "# 评估Ridge模型\n",
    "y_pred_ridge = ridge_model.predict(X_test_slim)\n",
    "r2_ridge = r2_score(y_test, y_pred_ridge)\n",
    "rmse_ridge = np.sqrt(mean_squared_error(y_test, y_pred_ridge))\n",
    "mae_ridge = mean_absolute_error(y_test, y_pred_ridge)\n",
    "\n",
    "print(\"简化Ridge模型评估结果:\")\n",
    "print(f\"  R²: {r2_ridge:.4f}\")\n",
    "print(f\"  RMSE: {rmse_ridge:.2f}\")\n",
    "print(f\"  MAE: {mae_ridge:.2f}\")\n",
    "print(f\"  训练时间: {ridge_train_time:.2f}秒\")"
   ]
  },
  {
   "cell_type": "markdown",
   "metadata": {},
   "source": [
    "# 5 其他模型"
   ]
  },
  {
   "cell_type": "markdown",
   "metadata": {},
   "source": [
    "## 5.1 XGBoost"
   ]
  },
  {
   "cell_type": "code",
   "execution_count": 35,
   "metadata": {},
   "outputs": [
    {
     "name": "stdout",
     "output_type": "stream",
     "text": [
      "XGBoost: R² = 0.6723, RMSE = 2869.68\n"
     ]
    }
   ],
   "source": [
    "import xgboost as xgb\n",
    "\n",
    "# 创建高度优化的XGBoost模型\n",
    "xgb_model = xgb.XGBRegressor(\n",
    "    n_estimators=200,\n",
    "    max_depth=5,\n",
    "    learning_rate=0.05,\n",
    "    subsample=0.8,\n",
    "    colsample_bytree=0.8,\n",
    "    reg_alpha=0.1,  # L1正则化\n",
    "    reg_lambda=1.0,  # L2正则化\n",
    "    tree_method='hist',  # 更快的训练方法\n",
    "    random_state=42,\n",
    "    n_jobs=-1\n",
    ")\n",
    "\n",
    "# 使用简化特征集训练\n",
    "xgb_model.fit(X_train_slim, y_train)\n",
    "\n",
    "# 评估\n",
    "y_pred_xgb = xgb_model.predict(X_test_slim)\n",
    "r2_xgb = r2_score(y_test, y_pred_xgb)\n",
    "rmse_xgb = np.sqrt(mean_squared_error(y_test, y_pred_xgb))\n",
    "print(f\"XGBoost: R² = {r2_xgb:.4f}, RMSE = {rmse_xgb:.2f}\")"
   ]
  },
  {
   "cell_type": "code",
   "execution_count": 41,
   "metadata": {},
   "outputs": [
    {
     "name": "stdout",
     "output_type": "stream",
     "text": [
      "Fitting 5 folds for each of 20 candidates, totalling 100 fits\n"
     ]
    },
    {
     "name": "stderr",
     "output_type": "stream",
     "text": [
      "c:\\Users\\avawa\\.conda\\envs\\mixrec\\lib\\site-packages\\sklearn\\model_selection\\_validation.py:425: FitFailedWarning: \n",
      "9 fits failed out of a total of 100.\n",
      "The score on these train-test partitions for these parameters will be set to nan.\n",
      "If these failures are not expected, you can try to debug them by setting error_score='raise'.\n",
      "\n",
      "Below are more details about the failures:\n",
      "--------------------------------------------------------------------------------\n",
      "4 fits failed with the following error:\n",
      "Traceback (most recent call last):\n",
      "  File \"c:\\Users\\avawa\\.conda\\envs\\mixrec\\lib\\site-packages\\sklearn\\model_selection\\_validation.py\", line 732, in _fit_and_score\n",
      "    estimator.fit(X_train, y_train, **fit_params)\n",
      "  File \"c:\\Users\\avawa\\.conda\\envs\\mixrec\\lib\\site-packages\\xgboost\\core.py\", line 726, in inner_f\n",
      "    return func(**kwargs)\n",
      "  File \"c:\\Users\\avawa\\.conda\\envs\\mixrec\\lib\\site-packages\\xgboost\\sklearn.py\", line 1143, in fit\n",
      "    train_dmatrix, evals = _wrap_evaluation_matrices(\n",
      "  File \"c:\\Users\\avawa\\.conda\\envs\\mixrec\\lib\\site-packages\\xgboost\\sklearn.py\", line 603, in _wrap_evaluation_matrices\n",
      "    train_dmatrix = create_dmatrix(\n",
      "  File \"c:\\Users\\avawa\\.conda\\envs\\mixrec\\lib\\site-packages\\xgboost\\sklearn.py\", line 1065, in _create_dmatrix\n",
      "    return QuantileDMatrix(\n",
      "  File \"c:\\Users\\avawa\\.conda\\envs\\mixrec\\lib\\site-packages\\xgboost\\core.py\", line 726, in inner_f\n",
      "    return func(**kwargs)\n",
      "  File \"c:\\Users\\avawa\\.conda\\envs\\mixrec\\lib\\site-packages\\xgboost\\core.py\", line 1573, in __init__\n",
      "    self._init(\n",
      "  File \"c:\\Users\\avawa\\.conda\\envs\\mixrec\\lib\\site-packages\\xgboost\\core.py\", line 1632, in _init\n",
      "    it.reraise()\n",
      "  File \"c:\\Users\\avawa\\.conda\\envs\\mixrec\\lib\\site-packages\\xgboost\\core.py\", line 569, in reraise\n",
      "    raise exc  # pylint: disable=raising-bad-type\n",
      "  File \"c:\\Users\\avawa\\.conda\\envs\\mixrec\\lib\\site-packages\\xgboost\\core.py\", line 550, in _handle_exception\n",
      "    return fn()\n",
      "  File \"c:\\Users\\avawa\\.conda\\envs\\mixrec\\lib\\site-packages\\xgboost\\core.py\", line 637, in <lambda>\n",
      "    return self._handle_exception(lambda: self.next(input_data), 0)\n",
      "  File \"c:\\Users\\avawa\\.conda\\envs\\mixrec\\lib\\site-packages\\xgboost\\data.py\", line 1402, in next\n",
      "    input_data(**self.kwargs)\n",
      "  File \"c:\\Users\\avawa\\.conda\\envs\\mixrec\\lib\\site-packages\\xgboost\\core.py\", line 726, in inner_f\n",
      "    return func(**kwargs)\n",
      "  File \"c:\\Users\\avawa\\.conda\\envs\\mixrec\\lib\\site-packages\\xgboost\\core.py\", line 626, in input_data\n",
      "    self.proxy.set_info(\n",
      "  File \"c:\\Users\\avawa\\.conda\\envs\\mixrec\\lib\\site-packages\\xgboost\\core.py\", line 726, in inner_f\n",
      "    return func(**kwargs)\n",
      "  File \"c:\\Users\\avawa\\.conda\\envs\\mixrec\\lib\\site-packages\\xgboost\\core.py\", line 954, in set_info\n",
      "    self.set_label(label)\n",
      "  File \"c:\\Users\\avawa\\.conda\\envs\\mixrec\\lib\\site-packages\\xgboost\\core.py\", line 1092, in set_label\n",
      "    dispatch_meta_backend(self, label, \"label\", \"float\")\n",
      "  File \"c:\\Users\\avawa\\.conda\\envs\\mixrec\\lib\\site-packages\\xgboost\\data.py\", line 1348, in dispatch_meta_backend\n",
      "    _meta_from_pandas_series(data, name, dtype, handle)\n",
      "  File \"c:\\Users\\avawa\\.conda\\envs\\mixrec\\lib\\site-packages\\xgboost\\data.py\", line 679, in _meta_from_pandas_series\n",
      "    _meta_from_numpy(data, name, dtype, handle)\n",
      "  File \"c:\\Users\\avawa\\.conda\\envs\\mixrec\\lib\\site-packages\\xgboost\\data.py\", line 1279, in _meta_from_numpy\n",
      "    _check_call(_LIB.XGDMatrixSetInfoFromInterface(handle, c_str(field), interface_str))\n",
      "  File \"c:\\Users\\avawa\\.conda\\envs\\mixrec\\lib\\site-packages\\xgboost\\core.py\", line 284, in _check_call\n",
      "    raise XGBoostError(py_str(_LIB.XGBGetLastError()))\n",
      "xgboost.core.XGBoostError: [13:33:08] C:\\buildkite-agent\\builds\\buildkite-windows-cpu-autoscaling-group-i-08cbc0333d8d4aae1-1\\xgboost\\xgboost-ci-windows\\src\\data\\array_interface.cu:44: Check failed: err == cudaGetLastError() (0 vs. 46) : \n",
      "\n",
      "--------------------------------------------------------------------------------\n",
      "1 fits failed with the following error:\n",
      "Traceback (most recent call last):\n",
      "  File \"c:\\Users\\avawa\\.conda\\envs\\mixrec\\lib\\site-packages\\sklearn\\model_selection\\_validation.py\", line 732, in _fit_and_score\n",
      "    estimator.fit(X_train, y_train, **fit_params)\n",
      "  File \"c:\\Users\\avawa\\.conda\\envs\\mixrec\\lib\\site-packages\\xgboost\\core.py\", line 726, in inner_f\n",
      "    return func(**kwargs)\n",
      "  File \"c:\\Users\\avawa\\.conda\\envs\\mixrec\\lib\\site-packages\\xgboost\\sklearn.py\", line 1143, in fit\n",
      "    train_dmatrix, evals = _wrap_evaluation_matrices(\n",
      "  File \"c:\\Users\\avawa\\.conda\\envs\\mixrec\\lib\\site-packages\\xgboost\\sklearn.py\", line 603, in _wrap_evaluation_matrices\n",
      "    train_dmatrix = create_dmatrix(\n",
      "  File \"c:\\Users\\avawa\\.conda\\envs\\mixrec\\lib\\site-packages\\xgboost\\sklearn.py\", line 1065, in _create_dmatrix\n",
      "    return QuantileDMatrix(\n",
      "  File \"c:\\Users\\avawa\\.conda\\envs\\mixrec\\lib\\site-packages\\xgboost\\core.py\", line 726, in inner_f\n",
      "    return func(**kwargs)\n",
      "  File \"c:\\Users\\avawa\\.conda\\envs\\mixrec\\lib\\site-packages\\xgboost\\core.py\", line 1573, in __init__\n",
      "    self._init(\n",
      "  File \"c:\\Users\\avawa\\.conda\\envs\\mixrec\\lib\\site-packages\\xgboost\\core.py\", line 1632, in _init\n",
      "    it.reraise()\n",
      "  File \"c:\\Users\\avawa\\.conda\\envs\\mixrec\\lib\\site-packages\\xgboost\\core.py\", line 569, in reraise\n",
      "    raise exc  # pylint: disable=raising-bad-type\n",
      "  File \"c:\\Users\\avawa\\.conda\\envs\\mixrec\\lib\\site-packages\\xgboost\\core.py\", line 550, in _handle_exception\n",
      "    return fn()\n",
      "  File \"c:\\Users\\avawa\\.conda\\envs\\mixrec\\lib\\site-packages\\xgboost\\core.py\", line 637, in <lambda>\n",
      "    return self._handle_exception(lambda: self.next(input_data), 0)\n",
      "  File \"c:\\Users\\avawa\\.conda\\envs\\mixrec\\lib\\site-packages\\xgboost\\data.py\", line 1402, in next\n",
      "    input_data(**self.kwargs)\n",
      "  File \"c:\\Users\\avawa\\.conda\\envs\\mixrec\\lib\\site-packages\\xgboost\\core.py\", line 726, in inner_f\n",
      "    return func(**kwargs)\n",
      "  File \"c:\\Users\\avawa\\.conda\\envs\\mixrec\\lib\\site-packages\\xgboost\\core.py\", line 626, in input_data\n",
      "    self.proxy.set_info(\n",
      "  File \"c:\\Users\\avawa\\.conda\\envs\\mixrec\\lib\\site-packages\\xgboost\\core.py\", line 726, in inner_f\n",
      "    return func(**kwargs)\n",
      "  File \"c:\\Users\\avawa\\.conda\\envs\\mixrec\\lib\\site-packages\\xgboost\\core.py\", line 954, in set_info\n",
      "    self.set_label(label)\n",
      "  File \"c:\\Users\\avawa\\.conda\\envs\\mixrec\\lib\\site-packages\\xgboost\\core.py\", line 1092, in set_label\n",
      "    dispatch_meta_backend(self, label, \"label\", \"float\")\n",
      "  File \"c:\\Users\\avawa\\.conda\\envs\\mixrec\\lib\\site-packages\\xgboost\\data.py\", line 1348, in dispatch_meta_backend\n",
      "    _meta_from_pandas_series(data, name, dtype, handle)\n",
      "  File \"c:\\Users\\avawa\\.conda\\envs\\mixrec\\lib\\site-packages\\xgboost\\data.py\", line 679, in _meta_from_pandas_series\n",
      "    _meta_from_numpy(data, name, dtype, handle)\n",
      "  File \"c:\\Users\\avawa\\.conda\\envs\\mixrec\\lib\\site-packages\\xgboost\\data.py\", line 1279, in _meta_from_numpy\n",
      "    _check_call(_LIB.XGDMatrixSetInfoFromInterface(handle, c_str(field), interface_str))\n",
      "  File \"c:\\Users\\avawa\\.conda\\envs\\mixrec\\lib\\site-packages\\xgboost\\core.py\", line 284, in _check_call\n",
      "    raise XGBoostError(py_str(_LIB.XGBGetLastError()))\n",
      "xgboost.core.XGBoostError: [13:33:09] C:\\buildkite-agent\\builds\\buildkite-windows-cpu-autoscaling-group-i-08cbc0333d8d4aae1-1\\xgboost\\xgboost-ci-windows\\src\\data\\array_interface.cu:44: Check failed: err == cudaGetLastError() (0 vs. 46) : \n",
      "\n",
      "--------------------------------------------------------------------------------\n",
      "2 fits failed with the following error:\n",
      "Traceback (most recent call last):\n",
      "  File \"c:\\Users\\avawa\\.conda\\envs\\mixrec\\lib\\site-packages\\sklearn\\model_selection\\_validation.py\", line 732, in _fit_and_score\n",
      "    estimator.fit(X_train, y_train, **fit_params)\n",
      "  File \"c:\\Users\\avawa\\.conda\\envs\\mixrec\\lib\\site-packages\\xgboost\\core.py\", line 726, in inner_f\n",
      "    return func(**kwargs)\n",
      "  File \"c:\\Users\\avawa\\.conda\\envs\\mixrec\\lib\\site-packages\\xgboost\\sklearn.py\", line 1143, in fit\n",
      "    train_dmatrix, evals = _wrap_evaluation_matrices(\n",
      "  File \"c:\\Users\\avawa\\.conda\\envs\\mixrec\\lib\\site-packages\\xgboost\\sklearn.py\", line 603, in _wrap_evaluation_matrices\n",
      "    train_dmatrix = create_dmatrix(\n",
      "  File \"c:\\Users\\avawa\\.conda\\envs\\mixrec\\lib\\site-packages\\xgboost\\sklearn.py\", line 1065, in _create_dmatrix\n",
      "    return QuantileDMatrix(\n",
      "  File \"c:\\Users\\avawa\\.conda\\envs\\mixrec\\lib\\site-packages\\xgboost\\core.py\", line 726, in inner_f\n",
      "    return func(**kwargs)\n",
      "  File \"c:\\Users\\avawa\\.conda\\envs\\mixrec\\lib\\site-packages\\xgboost\\core.py\", line 1573, in __init__\n",
      "    self._init(\n",
      "  File \"c:\\Users\\avawa\\.conda\\envs\\mixrec\\lib\\site-packages\\xgboost\\core.py\", line 1632, in _init\n",
      "    it.reraise()\n",
      "  File \"c:\\Users\\avawa\\.conda\\envs\\mixrec\\lib\\site-packages\\xgboost\\core.py\", line 569, in reraise\n",
      "    raise exc  # pylint: disable=raising-bad-type\n",
      "  File \"c:\\Users\\avawa\\.conda\\envs\\mixrec\\lib\\site-packages\\xgboost\\core.py\", line 550, in _handle_exception\n",
      "    return fn()\n",
      "  File \"c:\\Users\\avawa\\.conda\\envs\\mixrec\\lib\\site-packages\\xgboost\\core.py\", line 637, in <lambda>\n",
      "    return self._handle_exception(lambda: self.next(input_data), 0)\n",
      "  File \"c:\\Users\\avawa\\.conda\\envs\\mixrec\\lib\\site-packages\\xgboost\\data.py\", line 1402, in next\n",
      "    input_data(**self.kwargs)\n",
      "  File \"c:\\Users\\avawa\\.conda\\envs\\mixrec\\lib\\site-packages\\xgboost\\core.py\", line 726, in inner_f\n",
      "    return func(**kwargs)\n",
      "  File \"c:\\Users\\avawa\\.conda\\envs\\mixrec\\lib\\site-packages\\xgboost\\core.py\", line 626, in input_data\n",
      "    self.proxy.set_info(\n",
      "  File \"c:\\Users\\avawa\\.conda\\envs\\mixrec\\lib\\site-packages\\xgboost\\core.py\", line 726, in inner_f\n",
      "    return func(**kwargs)\n",
      "  File \"c:\\Users\\avawa\\.conda\\envs\\mixrec\\lib\\site-packages\\xgboost\\core.py\", line 954, in set_info\n",
      "    self.set_label(label)\n",
      "  File \"c:\\Users\\avawa\\.conda\\envs\\mixrec\\lib\\site-packages\\xgboost\\core.py\", line 1092, in set_label\n",
      "    dispatch_meta_backend(self, label, \"label\", \"float\")\n",
      "  File \"c:\\Users\\avawa\\.conda\\envs\\mixrec\\lib\\site-packages\\xgboost\\data.py\", line 1348, in dispatch_meta_backend\n",
      "    _meta_from_pandas_series(data, name, dtype, handle)\n",
      "  File \"c:\\Users\\avawa\\.conda\\envs\\mixrec\\lib\\site-packages\\xgboost\\data.py\", line 679, in _meta_from_pandas_series\n",
      "    _meta_from_numpy(data, name, dtype, handle)\n",
      "  File \"c:\\Users\\avawa\\.conda\\envs\\mixrec\\lib\\site-packages\\xgboost\\data.py\", line 1279, in _meta_from_numpy\n",
      "    _check_call(_LIB.XGDMatrixSetInfoFromInterface(handle, c_str(field), interface_str))\n",
      "  File \"c:\\Users\\avawa\\.conda\\envs\\mixrec\\lib\\site-packages\\xgboost\\core.py\", line 284, in _check_call\n",
      "    raise XGBoostError(py_str(_LIB.XGBGetLastError()))\n",
      "xgboost.core.XGBoostError: [13:33:07] C:\\buildkite-agent\\builds\\buildkite-windows-cpu-autoscaling-group-i-08cbc0333d8d4aae1-1\\xgboost\\xgboost-ci-windows\\src\\data\\array_interface.cu:44: Check failed: err == cudaGetLastError() (0 vs. 46) : \n",
      "\n",
      "--------------------------------------------------------------------------------\n",
      "2 fits failed with the following error:\n",
      "Traceback (most recent call last):\n",
      "  File \"c:\\Users\\avawa\\.conda\\envs\\mixrec\\lib\\site-packages\\sklearn\\model_selection\\_validation.py\", line 732, in _fit_and_score\n",
      "    estimator.fit(X_train, y_train, **fit_params)\n",
      "  File \"c:\\Users\\avawa\\.conda\\envs\\mixrec\\lib\\site-packages\\xgboost\\core.py\", line 726, in inner_f\n",
      "    return func(**kwargs)\n",
      "  File \"c:\\Users\\avawa\\.conda\\envs\\mixrec\\lib\\site-packages\\xgboost\\sklearn.py\", line 1143, in fit\n",
      "    train_dmatrix, evals = _wrap_evaluation_matrices(\n",
      "  File \"c:\\Users\\avawa\\.conda\\envs\\mixrec\\lib\\site-packages\\xgboost\\sklearn.py\", line 603, in _wrap_evaluation_matrices\n",
      "    train_dmatrix = create_dmatrix(\n",
      "  File \"c:\\Users\\avawa\\.conda\\envs\\mixrec\\lib\\site-packages\\xgboost\\sklearn.py\", line 1065, in _create_dmatrix\n",
      "    return QuantileDMatrix(\n",
      "  File \"c:\\Users\\avawa\\.conda\\envs\\mixrec\\lib\\site-packages\\xgboost\\core.py\", line 726, in inner_f\n",
      "    return func(**kwargs)\n",
      "  File \"c:\\Users\\avawa\\.conda\\envs\\mixrec\\lib\\site-packages\\xgboost\\core.py\", line 1573, in __init__\n",
      "    self._init(\n",
      "  File \"c:\\Users\\avawa\\.conda\\envs\\mixrec\\lib\\site-packages\\xgboost\\core.py\", line 1632, in _init\n",
      "    it.reraise()\n",
      "  File \"c:\\Users\\avawa\\.conda\\envs\\mixrec\\lib\\site-packages\\xgboost\\core.py\", line 569, in reraise\n",
      "    raise exc  # pylint: disable=raising-bad-type\n",
      "  File \"c:\\Users\\avawa\\.conda\\envs\\mixrec\\lib\\site-packages\\xgboost\\core.py\", line 550, in _handle_exception\n",
      "    return fn()\n",
      "  File \"c:\\Users\\avawa\\.conda\\envs\\mixrec\\lib\\site-packages\\xgboost\\core.py\", line 637, in <lambda>\n",
      "    return self._handle_exception(lambda: self.next(input_data), 0)\n",
      "  File \"c:\\Users\\avawa\\.conda\\envs\\mixrec\\lib\\site-packages\\xgboost\\data.py\", line 1402, in next\n",
      "    input_data(**self.kwargs)\n",
      "  File \"c:\\Users\\avawa\\.conda\\envs\\mixrec\\lib\\site-packages\\xgboost\\core.py\", line 726, in inner_f\n",
      "    return func(**kwargs)\n",
      "  File \"c:\\Users\\avawa\\.conda\\envs\\mixrec\\lib\\site-packages\\xgboost\\core.py\", line 626, in input_data\n",
      "    self.proxy.set_info(\n",
      "  File \"c:\\Users\\avawa\\.conda\\envs\\mixrec\\lib\\site-packages\\xgboost\\core.py\", line 726, in inner_f\n",
      "    return func(**kwargs)\n",
      "  File \"c:\\Users\\avawa\\.conda\\envs\\mixrec\\lib\\site-packages\\xgboost\\core.py\", line 954, in set_info\n",
      "    self.set_label(label)\n",
      "  File \"c:\\Users\\avawa\\.conda\\envs\\mixrec\\lib\\site-packages\\xgboost\\core.py\", line 1092, in set_label\n",
      "    dispatch_meta_backend(self, label, \"label\", \"float\")\n",
      "  File \"c:\\Users\\avawa\\.conda\\envs\\mixrec\\lib\\site-packages\\xgboost\\data.py\", line 1348, in dispatch_meta_backend\n",
      "    _meta_from_pandas_series(data, name, dtype, handle)\n",
      "  File \"c:\\Users\\avawa\\.conda\\envs\\mixrec\\lib\\site-packages\\xgboost\\data.py\", line 679, in _meta_from_pandas_series\n",
      "    _meta_from_numpy(data, name, dtype, handle)\n",
      "  File \"c:\\Users\\avawa\\.conda\\envs\\mixrec\\lib\\site-packages\\xgboost\\data.py\", line 1279, in _meta_from_numpy\n",
      "    _check_call(_LIB.XGDMatrixSetInfoFromInterface(handle, c_str(field), interface_str))\n",
      "  File \"c:\\Users\\avawa\\.conda\\envs\\mixrec\\lib\\site-packages\\xgboost\\core.py\", line 284, in _check_call\n",
      "    raise XGBoostError(py_str(_LIB.XGBGetLastError()))\n",
      "xgboost.core.XGBoostError: [13:33:06] C:\\buildkite-agent\\builds\\buildkite-windows-cpu-autoscaling-group-i-08cbc0333d8d4aae1-1\\xgboost\\xgboost-ci-windows\\src\\data\\array_interface.cu:44: Check failed: err == cudaGetLastError() (0 vs. 46) : \n",
      "\n",
      "  warnings.warn(some_fits_failed_message, FitFailedWarning)\n",
      "c:\\Users\\avawa\\.conda\\envs\\mixrec\\lib\\site-packages\\sklearn\\model_selection\\_search.py:976: UserWarning: One or more of the test scores are non-finite: [       nan        nan        nan        nan        nan 0.39216001\n",
      "        nan 0.68386741 0.68632751 0.6804847  0.68152567 0.67488891\n",
      " 0.67599071 0.68429065 0.68412543 0.67173551 0.67813687 0.41640744\n",
      " 0.67494227 0.67923477]\n",
      "  warnings.warn(\n"
     ]
    },
    {
     "name": "stdout",
     "output_type": "stream",
     "text": [
      "最佳参数: {'subsample': 0.6, 'reg_lambda': 10, 'reg_alpha': 10, 'n_estimators': 400, 'max_depth': 9, 'learning_rate': 0.05, 'colsample_bytree': 0.8}\n"
     ]
    }
   ],
   "source": [
    "from sklearn.model_selection import RandomizedSearchCV\n",
    "\n",
    "# 参数网格\n",
    "param_grid = {\n",
    "    'learning_rate': [0.01, 0.05, 0.1, 0.2],\n",
    "    'max_depth': [3, 5, 7, 9],\n",
    "    'n_estimators': [50, 100, 200, 400],\n",
    "    'subsample': [0.6, 0.8, 1.0],\n",
    "    'colsample_bytree': [0.6, 0.8, 1.0],\n",
    "    'reg_alpha': [0, 0.1, 1, 10],\n",
    "    'reg_lambda': [0, 1, 10, 100]\n",
    "}\n",
    "\n",
    "# 随机搜索\n",
    "random_search = RandomizedSearchCV(\n",
    "    estimator=xgb.XGBRegressor(tree_method='hist', random_state=42, n_jobs=-1),\n",
    "    param_distributions=param_grid,\n",
    "    n_iter=20,\n",
    "    scoring='r2',\n",
    "    cv=5,\n",
    "    verbose=1,\n",
    "    n_jobs=-1\n",
    ")\n",
    "\n",
    "random_search.fit(X_train_slim, y_train)\n",
    "print(\"最佳参数:\", random_search.best_params_)"
   ]
  },
  {
   "cell_type": "code",
   "execution_count": 43,
   "metadata": {},
   "outputs": [
    {
     "name": "stdout",
     "output_type": "stream",
     "text": [
      "使用最佳参数训练XGBoost模型...\n"
     ]
    },
    {
     "name": "stderr",
     "output_type": "stream",
     "text": [
      "c:\\Users\\avawa\\.conda\\envs\\mixrec\\lib\\site-packages\\xgboost\\core.py:158: UserWarning: [13:43:41] WARNING: C:\\buildkite-agent\\builds\\buildkite-windows-cpu-autoscaling-group-i-08cbc0333d8d4aae1-1\\xgboost\\xgboost-ci-windows\\src\\learner.cc:740: \n",
      "Parameters: { \"bagging_temperature\", \"depth\", \"iterations\", \"l2_leaf_reg\" } are not used.\n",
      "\n",
      "  warnings.warn(smsg, UserWarning)\n"
     ]
    },
    {
     "name": "stdout",
     "output_type": "stream",
     "text": [
      "XGBoost模型评估结果 (使用最佳参数):\n",
      "  R²: 0.6714\n",
      "  RMSE: 2873.50\n",
      "  MAE: 2124.02\n",
      "  训练时间: 0.77秒\n"
     ]
    }
   ],
   "source": [
    "# 使用最佳参数重新训练XGBoost模型\n",
    "best_xgb_params = random_search.best_params_  # 从微调中获取最佳参数\n",
    "\n",
    "xgb_model = xgb.XGBRegressor(\n",
    "    **best_xgb_params,  # 使用最佳参数\n",
    "    tree_method='hist',  # 更快的训练方法\n",
    "    random_state=42,\n",
    "    n_jobs=-1\n",
    ")\n",
    "\n",
    "# 训练模型\n",
    "print(\"使用最佳参数训练XGBoost模型...\")\n",
    "start_time = time.time()\n",
    "xgb_model.fit(X_train_slim, y_train)\n",
    "train_time = time.time() - start_time\n",
    "\n",
    "# 评估模型\n",
    "y_pred_xgb = xgb_model.predict(X_test_slim)\n",
    "r2_xgb = r2_score(y_test, y_pred_xgb)\n",
    "rmse_xgb = np.sqrt(mean_squared_error(y_test, y_pred_xgb))\n",
    "mae_xgb = mean_absolute_error(y_test, y_pred_xgb)\n",
    "\n",
    "print(f\"XGBoost模型评估结果 (使用最佳参数):\")\n",
    "print(f\"  R²: {r2_xgb:.4f}\")\n",
    "print(f\"  RMSE: {rmse_xgb:.2f}\")\n",
    "print(f\"  MAE: {mae_xgb:.2f}\")\n",
    "print(f\"  训练时间: {train_time:.2f}秒\")"
   ]
  },
  {
   "cell_type": "markdown",
   "metadata": {},
   "source": [
    "## 5.2 CatBoost"
   ]
  },
  {
   "cell_type": "code",
   "execution_count": 37,
   "metadata": {},
   "outputs": [
    {
     "name": "stdout",
     "output_type": "stream",
     "text": [
      "CatBoost: R² = 0.6696, RMSE = 2881.37\n"
     ]
    }
   ],
   "source": [
    "from catboost import CatBoostRegressor\n",
    "\n",
    "# 确定分类特征索引\n",
    "categorical_features_indices = [i for i, feature in enumerate(top_features) if feature in ['Age_City', 'Gender_Marital', 'City_Category']]\n",
    "\n",
    "# 创建CatBoost模型\n",
    "cat_model = CatBoostRegressor(\n",
    "    iterations=200,\n",
    "    learning_rate=0.05,\n",
    "    depth=6,\n",
    "    l2_leaf_reg=3,\n",
    "    loss_function='RMSE',\n",
    "    random_seed=42,\n",
    "    verbose=0\n",
    ")\n",
    "\n",
    "# 训练时指定分类特征\n",
    "cat_model.fit(X_train_slim, y_train, cat_features=categorical_features_indices)\n",
    "\n",
    "# 评估\n",
    "y_pred_cat = cat_model.predict(X_test_slim)\n",
    "r2_cat = r2_score(y_test, y_pred_cat)\n",
    "rmse_cat = np.sqrt(mean_squared_error(y_test, y_pred_cat))\n",
    "print(f\"CatBoost: R² = {r2_cat:.4f}, RMSE = {rmse_cat:.2f}\")"
   ]
  },
  {
   "cell_type": "code",
   "execution_count": 42,
   "metadata": {},
   "outputs": [
    {
     "name": "stdout",
     "output_type": "stream",
     "text": [
      "Fitting 5 folds for each of 20 candidates, totalling 100 fits\n",
      "最佳参数: {'learning_rate': 0.05, 'l2_leaf_reg': 3, 'iterations': 500, 'depth': 10, 'bagging_temperature': 1}\n"
     ]
    }
   ],
   "source": [
    "from sklearn.model_selection import RandomizedSearchCV\n",
    "\n",
    "# 参数网格\n",
    "param_grid = {\n",
    "    'learning_rate': [0.01, 0.05, 0.1, 0.2],\n",
    "    'depth': [4, 6, 8, 10],\n",
    "    'iterations': [100, 200, 500],\n",
    "    'l2_leaf_reg': [1, 3, 5, 10],\n",
    "    'bagging_temperature': [0, 1, 3, 5]\n",
    "}\n",
    "\n",
    "# 随机搜索\n",
    "random_search = RandomizedSearchCV(\n",
    "    estimator=CatBoostRegressor(verbose=0, random_seed=42),\n",
    "    param_distributions=param_grid,\n",
    "    n_iter=20,\n",
    "    scoring='r2',\n",
    "    cv=5,\n",
    "    verbose=1,\n",
    "    n_jobs=-1\n",
    ")\n",
    "\n",
    "random_search.fit(X_train_slim, y_train)\n",
    "print(\"最佳参数:\", random_search.best_params_)"
   ]
  },
  {
   "cell_type": "code",
   "execution_count": 44,
   "metadata": {},
   "outputs": [
    {
     "name": "stdout",
     "output_type": "stream",
     "text": [
      "使用最佳参数训练CatBoost模型...\n",
      "CatBoost模型评估结果 (使用最佳参数):\n",
      "  R²: 0.6786\n",
      "  RMSE: 2841.97\n",
      "  MAE: 2096.47\n",
      "  训练时间: 72.11秒\n"
     ]
    }
   ],
   "source": [
    "# 使用最佳参数重新训练CatBoost模型\n",
    "best_cat_params = random_search.best_params_  # 从微调中获取最佳参数\n",
    "\n",
    "cat_model = CatBoostRegressor(\n",
    "    **best_cat_params,  # 使用最佳参数\n",
    "    random_seed=42,\n",
    "    verbose=0  # 关闭训练过程中的详细输出\n",
    ")\n",
    "\n",
    "# 训练模型\n",
    "print(\"使用最佳参数训练CatBoost模型...\")\n",
    "start_time = time.time()\n",
    "cat_model.fit(X_train_slim, y_train, cat_features=categorical_features_indices)\n",
    "train_time = time.time() - start_time\n",
    "\n",
    "# 评估模型\n",
    "y_pred_cat = cat_model.predict(X_test_slim)\n",
    "r2_cat = r2_score(y_test, y_pred_cat)\n",
    "rmse_cat = np.sqrt(mean_squared_error(y_test, y_pred_cat))\n",
    "mae_cat = mean_absolute_error(y_test, y_pred_cat)\n",
    "\n",
    "print(f\"CatBoost模型评估结果 (使用最佳参数):\")\n",
    "print(f\"  R²: {r2_cat:.4f}\")\n",
    "print(f\"  RMSE: {rmse_cat:.2f}\")\n",
    "print(f\"  MAE: {mae_cat:.2f}\")\n",
    "print(f\"  训练时间: {train_time:.2f}秒\")"
   ]
  },
  {
   "cell_type": "markdown",
   "metadata": {},
   "source": [
    "# 6 Voting & Blending"
   ]
  },
  {
   "cell_type": "code",
   "execution_count": 51,
   "metadata": {},
   "outputs": [
    {
     "name": "stdout",
     "output_type": "stream",
     "text": [
      "[LightGBM] [Info] Auto-choosing row-wise multi-threading, the overhead of testing was 0.001670 seconds.\n",
      "You can set `force_row_wise=true` to remove the overhead.\n",
      "And if memory is not enough, you can set `force_col_wise=true`.\n",
      "[LightGBM] [Info] Total Bins 963\n",
      "[LightGBM] [Info] Number of data points in the train set: 440054, number of used features: 10\n",
      "[LightGBM] [Info] Start training from score 9266.733955\n"
     ]
    },
    {
     "name": "stderr",
     "output_type": "stream",
     "text": [
      "c:\\Users\\avawa\\.conda\\envs\\mixrec\\lib\\site-packages\\xgboost\\core.py:158: UserWarning: [13:51:32] WARNING: C:\\buildkite-agent\\builds\\buildkite-windows-cpu-autoscaling-group-i-08cbc0333d8d4aae1-1\\xgboost\\xgboost-ci-windows\\src\\learner.cc:740: \n",
      "Parameters: { \"bagging_temperature\", \"depth\", \"iterations\", \"l2_leaf_reg\" } are not used.\n",
      "\n",
      "  warnings.warn(smsg, UserWarning)\n"
     ]
    },
    {
     "name": "stdout",
     "output_type": "stream",
     "text": [
      "Voting Regressor: R² = 0.6788, RMSE = 2840.92, MAE = 2096.28\n"
     ]
    }
   ],
   "source": [
    "from sklearn.ensemble import VotingRegressor\n",
    "\n",
    "# 创建投票回归器\n",
    "voting_regressor = VotingRegressor(\n",
    "    estimators=[\n",
    "        ('lgbm', best_lgbm),\n",
    "        ('xgb', xgb_model),\n",
    "        ('cat', cat_model)\n",
    "    ]\n",
    ")\n",
    "\n",
    "# 训练投票回归器\n",
    "voting_regressor.fit(X_train_slim, y_train)\n",
    "\n",
    "# 评估投票回归器\n",
    "y_pred_voting = voting_regressor.predict(X_test_slim)\n",
    "r2_voting = r2_score(y_test, y_pred_voting)\n",
    "rmse_voting = np.sqrt(mean_squared_error(y_test, y_pred_voting))\n",
    "mae_voting = mean_absolute_error(y_test, y_pred_voting)\n",
    "\n",
    "print(f\"Voting Regressor: R² = {r2_voting:.4f}, RMSE = {rmse_voting:.2f}, MAE = {mae_voting:.2f}\")"
   ]
  },
  {
   "cell_type": "code",
   "execution_count": 52,
   "metadata": {},
   "outputs": [
    {
     "name": "stdout",
     "output_type": "stream",
     "text": [
      "Blending模型: R² = 0.6812, RMSE = 2830.21, MAE = 2085.56\n"
     ]
    }
   ],
   "source": [
    "# 手动Blending\n",
    "y_blend = 0.8 * y_pred_lgbm + 0.05 * y_pred_xgb + 0.15 * y_pred_cat\n",
    "\n",
    "# 评估Blending模型\n",
    "r2_blend = r2_score(y_test, y_blend)\n",
    "rmse_blend = np.sqrt(mean_squared_error(y_test, y_blend))\n",
    "mae_blend = mean_absolute_error(y_test, y_blend)\n",
    "\n",
    "print(f\"Blending模型: R² = {r2_blend:.4f}, RMSE = {rmse_blend:.2f}, MAE = {mae_blend:.2f}\")"
   ]
  }
 ],
 "metadata": {
  "kernelspec": {
   "display_name": "Python (mixrec)",
   "language": "python",
   "name": "mixrec"
  },
  "language_info": {
   "codemirror_mode": {
    "name": "ipython",
    "version": 3
   },
   "file_extension": ".py",
   "mimetype": "text/x-python",
   "name": "python",
   "nbconvert_exporter": "python",
   "pygments_lexer": "ipython3",
   "version": "3.8.18"
  }
 },
 "nbformat": 4,
 "nbformat_minor": 2
}
