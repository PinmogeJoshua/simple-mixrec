{
 "cells": [
  {
   "cell_type": "markdown",
   "metadata": {},
   "source": [
    "# 1 导入必要的库"
   ]
  },
  {
   "cell_type": "code",
   "execution_count": 1,
   "metadata": {},
   "outputs": [],
   "source": [
    "import pandas as pd\n",
    "import numpy as np\n",
    "from sklearn.model_selection import train_test_split, GridSearchCV, cross_val_score\n",
    "from sklearn.preprocessing import StandardScaler, MinMaxScaler\n",
    "from sklearn.metrics import mean_squared_error, mean_absolute_error\n",
    "from sklearn.decomposition import PCA\n",
    "import matplotlib.pyplot as plt\n",
    "import seaborn as sns"
   ]
  },
  {
   "cell_type": "code",
   "execution_count": 2,
   "metadata": {},
   "outputs": [
    {
     "name": "stderr",
     "output_type": "stream",
     "text": [
      "c:\\Users\\avawa\\.conda\\envs\\mixrec\\lib\\site-packages\\tqdm\\auto.py:21: TqdmWarning: IProgress not found. Please update jupyter and ipywidgets. See https://ipywidgets.readthedocs.io/en/stable/user_install.html\n",
      "  from .autonotebook import tqdm as notebook_tqdm\n",
      "c:\\Users\\avawa\\.conda\\envs\\mixrec\\lib\\site-packages\\lightfm\\_lightfm_fast.py:9: UserWarning: LightFM was compiled without OpenMP support. Only a single thread will be used.\n",
      "  warnings.warn(\n"
     ]
    }
   ],
   "source": [
    "# 用于推荐系统的库\n",
    "from surprise import Dataset, Reader, SVD, KNNBasic, NMF\n",
    "from surprise.model_selection import train_test_split as surprise_train_test_split\n",
    "from surprise.model_selection import cross_validate\n",
    "import implicit\n",
    "from scipy.sparse import csr_matrix\n",
    "import lightfm\n",
    "from lightfm import LightFM\n",
    "from lightfm.evaluation import precision_at_k, auc_score"
   ]
  },
  {
   "cell_type": "markdown",
   "metadata": {},
   "source": [
    "# 2. 加载预处理后的数据"
   ]
  },
  {
   "cell_type": "code",
   "execution_count": 3,
   "metadata": {},
   "outputs": [
    {
     "name": "stdout",
     "output_type": "stream",
     "text": [
      "数据集形状: (550068, 20)\n",
      "总用户数: 5891\n",
      "总产品数: 3631\n",
      "总交互数: 550068\n"
     ]
    }
   ],
   "source": [
    "df = pd.read_csv('../datasets/walmart_preprocessed.csv')\n",
    "\n",
    "print(f\"数据集形状: {df.shape}\")\n",
    "print(f\"总用户数: {df['User_ID'].nunique()}\")\n",
    "print(f\"总产品数: {df['Product_ID'].nunique()}\")\n",
    "print(f\"总交互数: {len(df)}\")"
   ]
  },
  {
   "cell_type": "markdown",
   "metadata": {},
   "source": [
    "# 3 特征工程"
   ]
  },
  {
   "cell_type": "markdown",
   "metadata": {},
   "source": [
    "## 3.1 创建用户特征矩阵"
   ]
  },
  {
   "cell_type": "code",
   "execution_count": 5,
   "metadata": {},
   "outputs": [
    {
     "name": "stdout",
     "output_type": "stream",
     "text": [
      "\n",
      "构建用户特征矩阵...\n",
      "用户特征矩阵形状: (5891, 8)\n",
      "用户特征: ['Gender_Code', 'Occupation', 'City_Code', 'Marital_Status', 'Stay_Years', 'Purchase_Count', 'Avg_User_Purchase', 'Age_Code']\n"
     ]
    }
   ],
   "source": [
    "print(\"\\n构建用户特征矩阵...\")\n",
    "user_features = df.drop_duplicates('User_ID').set_index('User_ID')\n",
    "\n",
    "# 选择用户特征\n",
    "user_cols = ['Gender_Code', 'Occupation', 'City_Code', 'Marital_Status', \n",
    "            'Stay_Years', 'Purchase_Count', 'Avg_User_Purchase']\n",
    "\n",
    "# 处理年龄特征 - 将分类变量转为数值编码\n",
    "age_mapping = {'0-17': 0, '18-25': 1, '26-35': 2, '36-45': 3, '46-50': 4, '51-55': 5, '55+': 6}\n",
    "user_features['Age_Code'] = user_features['Age'].map(age_mapping)\n",
    "user_cols.append('Age_Code')\n",
    "\n",
    "# 保留基本用户特征\n",
    "user_features = user_features[user_cols]\n",
    "print(f\"用户特征矩阵形状: {user_features.shape}\")\n",
    "print(f\"用户特征: {user_features.columns.tolist()}\")"
   ]
  },
  {
   "cell_type": "markdown",
   "metadata": {},
   "source": [
    "## 3.2 创建商品特征矩阵"
   ]
  },
  {
   "cell_type": "code",
   "execution_count": 6,
   "metadata": {},
   "outputs": [
    {
     "name": "stdout",
     "output_type": "stream",
     "text": [
      "\n",
      "构建商品特征矩阵...\n",
      "产品特征矩阵形状: (3631, 24)\n"
     ]
    }
   ],
   "source": [
    "print(\"\\n构建商品特征矩阵...\")\n",
    "# 计算每个产品的统计特征\n",
    "product_features = df.groupby('Product_ID').agg({\n",
    "    'Purchase': ['mean', 'std', 'count'],\n",
    "    'Product_Category': 'first'\n",
    "}).reset_index()\n",
    "product_features.columns = ['Product_ID', 'Avg_Price', 'Price_Std', 'Purchase_Count', 'Category']\n",
    "\n",
    "# 创建产品类别的One-Hot编码\n",
    "product_category_dummies = pd.get_dummies(product_features['Category'], prefix='category')\n",
    "product_features = pd.concat([product_features, product_category_dummies], axis=1)\n",
    "\n",
    "# 设置索引\n",
    "product_features.set_index('Product_ID', inplace=True)\n",
    "print(f\"产品特征矩阵形状: {product_features.shape}\")"
   ]
  },
  {
   "cell_type": "markdown",
   "metadata": {},
   "source": [
    "## 3.3 创建交互矩阵 (用户-商品-评分)"
   ]
  },
  {
   "cell_type": "code",
   "execution_count": 7,
   "metadata": {},
   "outputs": [
    {
     "name": "stdout",
     "output_type": "stream",
     "text": [
      "\n",
      "构建交互矩阵...\n",
      "交互矩阵形状: (550068, 4)\n",
      "评分分布:\n",
      "count    550068.000000\n",
      "mean          2.545279\n",
      "std           0.838960\n",
      "min           1.000000\n",
      "25%           1.970562\n",
      "50%           2.342018\n",
      "75%           3.011274\n",
      "max           5.000000\n",
      "Name: Rating, dtype: float64\n"
     ]
    },
    {
     "name": "stderr",
     "output_type": "stream",
     "text": [
      "C:\\Users\\avawa\\AppData\\Local\\Temp\\ipykernel_4008\\2372762409.py:7: SettingWithCopyWarning: \n",
      "A value is trying to be set on a copy of a slice from a DataFrame.\n",
      "Try using .loc[row_indexer,col_indexer] = value instead\n",
      "\n",
      "See the caveats in the documentation: https://pandas.pydata.org/pandas-docs/stable/user_guide/indexing.html#returning-a-view-versus-a-copy\n",
      "  interactions['Rating'] = 1 + 4 * (interactions['Purchase'] - min_purchase) / (max_purchase - min_purchase)\n"
     ]
    }
   ],
   "source": [
    "print(\"\\n构建交互矩阵...\")\n",
    "interactions = df[['User_ID', 'Product_ID', 'Purchase']]\n",
    "\n",
    "# 将购买金额标准化到[0-5]区间作为评分,更符合推荐系统的评分范围\n",
    "min_purchase = interactions['Purchase'].min()\n",
    "max_purchase = interactions['Purchase'].max()\n",
    "interactions['Rating'] = 1 + 4 * (interactions['Purchase'] - min_purchase) / (max_purchase - min_purchase)\n",
    "\n",
    "print(f\"交互矩阵形状: {interactions.shape}\")\n",
    "print(\"评分分布:\")\n",
    "print(interactions['Rating'].describe())"
   ]
  },
  {
   "cell_type": "markdown",
   "metadata": {},
   "source": [
    "## 3.4 处理稀疏性问题"
   ]
  },
  {
   "cell_type": "code",
   "execution_count": 8,
   "metadata": {},
   "outputs": [
    {
     "name": "stdout",
     "output_type": "stream",
     "text": [
      "\n",
      "过滤前交互数: 550068\n",
      "过滤后交互数: 549320\n",
      "保留的用户数: 5891\n",
      "保留的产品数: 3277\n"
     ]
    }
   ],
   "source": [
    "# 过滤掉少于5次交互的用户和商品\n",
    "user_counts = interactions['User_ID'].value_counts()\n",
    "product_counts = interactions['Product_ID'].value_counts()\n",
    "active_users = user_counts[user_counts >= 5].index\n",
    "active_products = product_counts[product_counts >= 5].index\n",
    "\n",
    "print(f\"\\n过滤前交互数: {len(interactions)}\")\n",
    "filtered_interactions = interactions[\n",
    "    interactions['User_ID'].isin(active_users) & \n",
    "    interactions['Product_ID'].isin(active_products)\n",
    "]\n",
    "print(f\"过滤后交互数: {len(filtered_interactions)}\")\n",
    "print(f\"保留的用户数: {len(active_users)}\")\n",
    "print(f\"保留的产品数: {len(active_products)}\")"
   ]
  },
  {
   "cell_type": "code",
   "execution_count": 9,
   "metadata": {},
   "outputs": [],
   "source": [
    "# 更新用户和商品特征\n",
    "user_features = user_features.loc[active_users]\n",
    "product_features = product_features.loc[active_products]"
   ]
  },
  {
   "cell_type": "markdown",
   "metadata": {},
   "source": [
    "## 3.5 特征缩放"
   ]
  },
  {
   "cell_type": "code",
   "execution_count": 10,
   "metadata": {},
   "outputs": [
    {
     "name": "stdout",
     "output_type": "stream",
     "text": [
      "\n",
      "特征缩放...\n"
     ]
    }
   ],
   "source": [
    "print(\"\\n特征缩放...\")\n",
    "# 对用户特征进行标准化\n",
    "user_scaler = StandardScaler()\n",
    "user_features_scaled = user_scaler.fit_transform(user_features)\n",
    "user_features_scaled = pd.DataFrame(\n",
    "    user_features_scaled, \n",
    "    index=user_features.index, \n",
    "    columns=user_features.columns\n",
    ")\n",
    "\n",
    "# 对产品特征进行标准化 (不包括One-Hot编码的类别)\n",
    "num_cols = ['Avg_Price', 'Price_Std', 'Purchase_Count']\n",
    "cat_cols = [col for col in product_features.columns if col.startswith('category_')]\n",
    "product_scaler = StandardScaler()\n",
    "product_features[num_cols] = product_scaler.fit_transform(product_features[num_cols])"
   ]
  },
  {
   "cell_type": "markdown",
   "metadata": {},
   "source": [
    "## 3.6 降维"
   ]
  },
  {
   "cell_type": "code",
   "execution_count": 11,
   "metadata": {},
   "outputs": [
    {
     "name": "stdout",
     "output_type": "stream",
     "text": [
      "用户特征PCA解释方差比例: [0.18955545 0.15916731 0.15433437 0.12470382 0.11657118]\n",
      "总解释方差: 0.7443\n"
     ]
    }
   ],
   "source": [
    "# 对用户特征进行PCA\n",
    "pca = PCA(n_components=min(5, len(user_features.columns)))\n",
    "user_features_pca = pca.fit_transform(user_features_scaled)\n",
    "print(f\"用户特征PCA解释方差比例: {pca.explained_variance_ratio_}\")\n",
    "print(f\"总解释方差: {sum(pca.explained_variance_ratio_):.4f}\")\n",
    "\n",
    "# 保存处理后的数据\n",
    "interactions.to_csv('../datasets/interactions.csv', index=False)\n",
    "user_features.to_csv('../datasets/user_features.csv')\n",
    "product_features.to_csv('../datasets/product_features.csv')"
   ]
  }
 ],
 "metadata": {
  "kernelspec": {
   "display_name": "Python 3",
   "language": "python",
   "name": "python3"
  },
  "language_info": {
   "codemirror_mode": {
    "name": "ipython",
    "version": 3
   },
   "file_extension": ".py",
   "mimetype": "text/x-python",
   "name": "python",
   "nbconvert_exporter": "python",
   "pygments_lexer": "ipython3",
   "version": "3.8.18"
  }
 },
 "nbformat": 4,
 "nbformat_minor": 2
}
